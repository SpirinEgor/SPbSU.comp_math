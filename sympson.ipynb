{
 "cells": [
  {
   "cell_type": "code",
   "execution_count": null,
   "metadata": {},
   "outputs": [],
   "source": [
    "def integrate(f, a, b, N):\n",
    "    # вычисляем размер шага узла\n",
    "    h = 1. * (b - a) / (2 * N)\n",
    "    # вычисляем значения функции во всех узлах \n",
    "    fk = [f(a + k * h) for k in range(0, 2 * N + 1)]\n",
    "    # сумма значений функции на нечётных позициях\n",
    "    A = sum(fk[1::2])\n",
    "    # сумма значений функции на чётных позициях\n",
    "    # кроме нулевого и 2N\n",
    "    B = sum(fk[2:2 * N:2])\n",
    "    # возвращаем значения интеграла на отрезке\n",
    "    return h / 3 * (fk[0] + 4 * A + 2 * B + fk[2 * N])"
   ]
  },
  {
   "cell_type": "code",
   "execution_count": null,
   "metadata": {},
   "outputs": [],
   "source": [
    "def integrate_rect(f, a, b, N):\n",
    "    # вычисляем размер шага узла\n",
    "    h = 1. * (b - a) / (N)\n",
    "    # вычисляем значения функции во всех узлах \n",
    "    f_left = [f(a + k * h) for k in range(0, N)]\n",
    "    f_center = [f(a + h / 2 + k * h) for k in range(0, N)]\n",
    "    f_right = [f(a + h + k * h) for k in range(0, N)]\n",
    "    return h * sum(f_left), h * sum(f_center), h * sum(f_right)\n",
    "def integrate_trap(f, a, b, N):\n",
    "    # вычисляем размер шага узла\n",
    "    h = 1. * (b - a) / (N)\n",
    "    # вычисляем значения функции во всех узлах \n",
    "    fk = [f(a + k * h) for k in range(0, N)]\n",
    "    return h / 2 * (fk[0] + 2 * sum(fk[1:-1]) + fk[-1])"
   ]
  },
  {
   "cell_type": "code",
   "execution_count": null,
   "metadata": {},
   "outputs": [],
   "source": [
    "def integrate_trap(f, a, b, N):\n",
    "    # вычисляем размер шага узла\n",
    "    h = 1. * (b - a) / (N)\n",
    "    # вычисляем значения функции во всех узлах \n",
    "    fk = [f(a + k * h) for k in range(0, N)]\n",
    "    return h / 2 * (fk[0] + 2 * sum(fk[1:-1]) + fk[-1])"
   ]
  },
  {
   "cell_type": "code",
   "execution_count": null,
   "metadata": {},
   "outputs": [],
   "source": [
    "f = lambda x: x ** 9\n",
    "print('Simpson formula: {}'.format(integrate(f, -2, 2, 100000)))\n",
    "print('Rectangles formula: {}'.format(integrate_rect(f, -2, 2, 100000)))\n",
    "print('Trapezoid formula: {}'.format(integrate_trap(f, -2, 2, 100000)))"
   ]
  }
 ],
 "metadata": {
  "kernelspec": {
   "display_name": "Python 3",
   "language": "python",
   "name": "python3"
  },
  "language_info": {
   "codemirror_mode": {
    "name": "ipython",
    "version": 3
   },
   "file_extension": ".py",
   "mimetype": "text/x-python",
   "name": "python",
   "nbconvert_exporter": "python",
   "pygments_lexer": "ipython3",
   "version": "3.6.3"
  }
 },
 "nbformat": 4,
 "nbformat_minor": 2
}
